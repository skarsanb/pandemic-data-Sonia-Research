{
 "cells": [
  {
   "cell_type": "markdown",
   "id": "4937e3c3",
   "metadata": {},
   "source": [
    "# Build A Matrices - with New York City\n",
    "\n",
    "According to the website below:\n",
    "\"In some instances, we report data from multiple counties or other non-county geographies as a single county. For instance, we report a single value for New York City, comprising the cases for New York, Kings, Queens, Bronx and Richmond Counties.\"\n",
    "\n",
    "https://github.com/nytimes/covid-19-data\n",
    "\n",
    "So I combine the flows for these 5 counties into a single New York City county"
   ]
  },
  {
   "cell_type": "markdown",
   "id": "70d2d59a",
   "metadata": {},
   "source": [
    "## Where the data is from\n",
    "**Daily Flows:** \n",
    "\n",
    "URL: https://github.com/GeoDS/COVID19USFlows-DailyFlows/tree/master/daily_flows/county2county\n",
    "\n",
    "Date Range: 01/21/2020 to 04/15/2021 "
   ]
  },
  {
   "cell_type": "code",
   "execution_count": 2,
   "id": "ad822553",
   "metadata": {},
   "outputs": [],
   "source": [
    "#below are the packages I will be using\n",
    "import pandas as pd\n",
    "import numpy as np\n",
    "import datetime as dt"
   ]
  },
  {
   "cell_type": "markdown",
   "id": "4df2c1ef",
   "metadata": {},
   "source": [
    "# Path Variables\n",
    "The default path is the GitHub descon-uccs/pandemic-data repository "
   ]
  },
  {
   "cell_type": "code",
   "execution_count": 34,
   "id": "270eb003",
   "metadata": {},
   "outputs": [],
   "source": [
    "#Paper input file path\n",
    "paperFilepath = '../Data/Jupyter Notebook Input/Final_Paper_Data_avg_cases.csv'\n",
    "\n",
    "#file path for where the A matrices that are created will be stored\n",
    "AMatrixFilepath = '../Data/A Matrices/'"
   ]
  },
  {
   "cell_type": "code",
   "execution_count": 8,
   "id": "ecacdbcd",
   "metadata": {},
   "outputs": [],
   "source": [
    "#below I create a dictionary where keys are fips and the value is the row/column for that particular fips code\n",
    "def create_matrix_indices_dictionary(matrix_data):\n",
    "    FIPS_dictionary = {}\n",
    "    FIPS_list = sorted(set(matrix_data['fips'].tolist()))\n",
    "    \n",
    "    #below I append FIPS [36005, 36047, 36061, 36081, 36085], which are the counties that make up New York City\n",
    "    FIPS_list.append(36005)\n",
    "    FIPS_list.append(36047)\n",
    "    FIPS_list.append(36061)\n",
    "    FIPS_list.append(36081)\n",
    "    FIPS_list.append(36085)\n",
    "    \n",
    "    i = 0\n",
    "    for key in FIPS_list:\n",
    "        FIPS_dictionary[key] = i\n",
    "        i += 1\n",
    "        \n",
    "    return FIPS_dictionary "
   ]
  },
  {
   "cell_type": "code",
   "execution_count": 9,
   "id": "629ac20c",
   "metadata": {},
   "outputs": [],
   "source": [
    "#below I create a dictionary where keys are fips and the value is the row/column for that particular fips code\n",
    "def create_final_CSV_matrix_indices_dictionary(matrix_data):\n",
    "    FIPS_dictionary2 = {}\n",
    "    FIPS_list = sorted(set(matrix_data['fips'].tolist()))\n",
    "    \n",
    "    FIPS_list.append(36998)\n",
    "    FIPS_list.sort()\n",
    "    \n",
    "    i = 0\n",
    "    for key in FIPS_list:\n",
    "        FIPS_dictionary2[key] = i\n",
    "        i += 1\n",
    "        \n",
    "    return FIPS_dictionary2 "
   ]
  },
  {
   "cell_type": "code",
   "execution_count": 10,
   "id": "1653b6cb",
   "metadata": {},
   "outputs": [],
   "source": [
    "#below is a function to create a population vector, this is used in order to take each row of the A matrix and divide \n",
    "    #the row by the population of the county that corresponds to that row\n",
    "def get_population_vector(dataset, FIPS_dictionary):\n",
    "    populations = []\n",
    "    \n",
    "    temp_FIPS = list(FIPS_dictionary.keys())[:-5]\n",
    "    \n",
    "    for fips in temp_FIPS:\n",
    "        value = dataset.loc[dataset['fips'] == fips, 'population'].iloc[0]\n",
    "        #print(value)\n",
    "        populations.append(value)\n",
    "    \n",
    "    #below I add the populations for counties [36005, 36047, 36061, 36081, 36085], which are the counties that make up New York City \n",
    "    populations.append(1418207)  \n",
    "    populations.append(2559903)\n",
    "    populations.append(1628706)\n",
    "    populations.append(2253858)\n",
    "    populations.append(476143)\n",
    "    \n",
    "    return populations"
   ]
  },
  {
   "cell_type": "code",
   "execution_count": 11,
   "id": "531ac885",
   "metadata": {},
   "outputs": [],
   "source": [
    "#below is a function to create the A matrix, where rows and columns are FIPS codes and the values are flows, we decided\n",
    "    #to take the matrix with the original flows and divide each row of the matrix by the popualtion of the county that\n",
    "    #corresponds to that row, then this function returns the transpose of the resulting matrix\n",
    "def create_A_matrix(matrix_data, dataset, FIPS_dictionary):\n",
    "    \n",
    "    matrix_size = len(FIPS_dictionary)\n",
    "    #print(len(FIPS_dictionary))\n",
    "    \n",
    "    #below is a matrix where origin are rows and destination are columns\n",
    "    matrix = np.zeros((matrix_size, matrix_size))\n",
    "    \n",
    "    for index, row in matrix_data.iterrows():\n",
    "        \n",
    "        origin = FIPS_dictionary[row['geoid_o']]\n",
    "        destination = FIPS_dictionary[row['geoid_d']]\n",
    "        pop_flow_value = row['pop_flows']\n",
    "        \n",
    "        matrix[origin][destination] = pop_flow_value\n",
    "    \n",
    "    #below I create a vector of each of the populations \n",
    "    population_vector = np.array(get_population_vector(dataset, FIPS_dictionary))\n",
    "    \n",
    "    #print(population_vector)\n",
    "    \n",
    "    #below I divide each row of the matrix by the population of the county that corresponds to that row\n",
    "    new_matrix = matrix / population_vector[:, np.newaxis]\n",
    "    \n",
    "    temp_df = pd.DataFrame(new_matrix)\n",
    "    \n",
    "    #below I combine the 5 New York counties into a single county called New York City county\n",
    "    \n",
    "    #below I sum the columns of the 5 New York counties, place it in row 1880, which is the correct spot for New York\n",
    "        #City county based on FIPS code order\n",
    "    NY_incoming_flows = list(temp_df[3132:].sum(axis=0))\n",
    "    temp_df.loc[1879.5] = NY_incoming_flows\n",
    "    temp_df = temp_df.sort_index().reset_index(drop=True)\n",
    "\n",
    "    #below I sum the rows of the 5 New York counties, place it in column 1880 \n",
    "    NY_outgoing_flows = list(temp_df.loc[:, 3132:].sum(axis=1))\n",
    "    temp_df.insert(1880, 'NY', NY_outgoing_flows)\n",
    "\n",
    "    #below I remove the 5 rows and columns that correspond to the 5 counties \n",
    "    temp_df.drop(temp_df.index[[3133 ,3134, 3135, 3136, 3137]], inplace=True)\n",
    "    temp_df.drop(temp_df.columns[[3133, 3134, 3135, 3136, 3137]], axis=1, inplace=True)\n",
    "    temp_df.columns = list(range(3133))\n",
    "    \n",
    "    final_matrix = temp_df.values\n",
    "    \n",
    "    #below I return the transpose of new_matrix, which means columns are now the origin while rows are the destination\n",
    "    return temp_df, np.transpose(final_matrix)"
   ]
  },
  {
   "cell_type": "markdown",
   "id": "674286be",
   "metadata": {},
   "source": [
    "## Begin to build the A Matrices"
   ]
  },
  {
   "cell_type": "code",
   "execution_count": 12,
   "id": "b9d5123d",
   "metadata": {},
   "outputs": [
    {
     "data": {
      "text/html": [
       "<div>\n",
       "<style scoped>\n",
       "    .dataframe tbody tr th:only-of-type {\n",
       "        vertical-align: middle;\n",
       "    }\n",
       "\n",
       "    .dataframe tbody tr th {\n",
       "        vertical-align: top;\n",
       "    }\n",
       "\n",
       "    .dataframe thead th {\n",
       "        text-align: right;\n",
       "    }\n",
       "</style>\n",
       "<table border=\"1\" class=\"dataframe\">\n",
       "  <thead>\n",
       "    <tr style=\"text-align: right;\">\n",
       "      <th></th>\n",
       "      <th>date</th>\n",
       "      <th>fips</th>\n",
       "      <th>state</th>\n",
       "      <th>county</th>\n",
       "      <th>cases</th>\n",
       "      <th>vaccinations</th>\n",
       "      <th>population</th>\n",
       "    </tr>\n",
       "  </thead>\n",
       "  <tbody>\n",
       "    <tr>\n",
       "      <th>0</th>\n",
       "      <td>2020-03-24</td>\n",
       "      <td>1001</td>\n",
       "      <td>Alabama</td>\n",
       "      <td>Autauga</td>\n",
       "      <td>0.14</td>\n",
       "      <td>0</td>\n",
       "      <td>55869</td>\n",
       "    </tr>\n",
       "    <tr>\n",
       "      <th>1</th>\n",
       "      <td>2020-03-25</td>\n",
       "      <td>1001</td>\n",
       "      <td>Alabama</td>\n",
       "      <td>Autauga</td>\n",
       "      <td>0.57</td>\n",
       "      <td>0</td>\n",
       "      <td>55869</td>\n",
       "    </tr>\n",
       "    <tr>\n",
       "      <th>2</th>\n",
       "      <td>2020-03-26</td>\n",
       "      <td>1001</td>\n",
       "      <td>Alabama</td>\n",
       "      <td>Autauga</td>\n",
       "      <td>0.86</td>\n",
       "      <td>0</td>\n",
       "      <td>55869</td>\n",
       "    </tr>\n",
       "    <tr>\n",
       "      <th>3</th>\n",
       "      <td>2020-03-27</td>\n",
       "      <td>1001</td>\n",
       "      <td>Alabama</td>\n",
       "      <td>Autauga</td>\n",
       "      <td>0.86</td>\n",
       "      <td>0</td>\n",
       "      <td>55869</td>\n",
       "    </tr>\n",
       "    <tr>\n",
       "      <th>4</th>\n",
       "      <td>2020-03-28</td>\n",
       "      <td>1001</td>\n",
       "      <td>Alabama</td>\n",
       "      <td>Autauga</td>\n",
       "      <td>0.86</td>\n",
       "      <td>0</td>\n",
       "      <td>55869</td>\n",
       "    </tr>\n",
       "    <tr>\n",
       "      <th>...</th>\n",
       "      <td>...</td>\n",
       "      <td>...</td>\n",
       "      <td>...</td>\n",
       "      <td>...</td>\n",
       "      <td>...</td>\n",
       "      <td>...</td>\n",
       "      <td>...</td>\n",
       "    </tr>\n",
       "    <tr>\n",
       "      <th>1185072</th>\n",
       "      <td>2021-04-11</td>\n",
       "      <td>56045</td>\n",
       "      <td>Wyoming</td>\n",
       "      <td>Weston</td>\n",
       "      <td>0.75</td>\n",
       "      <td>1379</td>\n",
       "      <td>6927</td>\n",
       "    </tr>\n",
       "    <tr>\n",
       "      <th>1185073</th>\n",
       "      <td>2021-04-12</td>\n",
       "      <td>56045</td>\n",
       "      <td>Wyoming</td>\n",
       "      <td>Weston</td>\n",
       "      <td>0.86</td>\n",
       "      <td>1379</td>\n",
       "      <td>6927</td>\n",
       "    </tr>\n",
       "    <tr>\n",
       "      <th>1185074</th>\n",
       "      <td>2021-04-13</td>\n",
       "      <td>56045</td>\n",
       "      <td>Wyoming</td>\n",
       "      <td>Weston</td>\n",
       "      <td>0.88</td>\n",
       "      <td>1380</td>\n",
       "      <td>6927</td>\n",
       "    </tr>\n",
       "    <tr>\n",
       "      <th>1185075</th>\n",
       "      <td>2021-04-14</td>\n",
       "      <td>56045</td>\n",
       "      <td>Wyoming</td>\n",
       "      <td>Weston</td>\n",
       "      <td>1.00</td>\n",
       "      <td>1392</td>\n",
       "      <td>6927</td>\n",
       "    </tr>\n",
       "    <tr>\n",
       "      <th>1185076</th>\n",
       "      <td>2021-04-15</td>\n",
       "      <td>56045</td>\n",
       "      <td>Wyoming</td>\n",
       "      <td>Weston</td>\n",
       "      <td>1.00</td>\n",
       "      <td>1392</td>\n",
       "      <td>6927</td>\n",
       "    </tr>\n",
       "  </tbody>\n",
       "</table>\n",
       "<p>1185077 rows × 7 columns</p>\n",
       "</div>"
      ],
      "text/plain": [
       "              date   fips    state   county  cases  vaccinations  population\n",
       "0       2020-03-24   1001  Alabama  Autauga   0.14             0       55869\n",
       "1       2020-03-25   1001  Alabama  Autauga   0.57             0       55869\n",
       "2       2020-03-26   1001  Alabama  Autauga   0.86             0       55869\n",
       "3       2020-03-27   1001  Alabama  Autauga   0.86             0       55869\n",
       "4       2020-03-28   1001  Alabama  Autauga   0.86             0       55869\n",
       "...            ...    ...      ...      ...    ...           ...         ...\n",
       "1185072 2021-04-11  56045  Wyoming   Weston   0.75          1379        6927\n",
       "1185073 2021-04-12  56045  Wyoming   Weston   0.86          1379        6927\n",
       "1185074 2021-04-13  56045  Wyoming   Weston   0.88          1380        6927\n",
       "1185075 2021-04-14  56045  Wyoming   Weston   1.00          1392        6927\n",
       "1185076 2021-04-15  56045  Wyoming   Weston   1.00          1392        6927\n",
       "\n",
       "[1185077 rows x 7 columns]"
      ]
     },
     "execution_count": 12,
     "metadata": {},
     "output_type": "execute_result"
    }
   ],
   "source": [
    "#below I use the CSV that I created with data for the paper in order to determine what FIPS codes we have decided to look at\n",
    "dataset = pd.read_csv(paperFilepath)\n",
    "dataset['date'] = pd.to_datetime(dataset['date'])\n",
    "dataset "
   ]
  },
  {
   "cell_type": "code",
   "execution_count": 30,
   "id": "ea5ef93a",
   "metadata": {},
   "outputs": [],
   "source": [
    "#below I create a dictionary that is used to build the matrices where keys are the FIPS we decided to look at while \n",
    "    #values are the row/column that correspond to each FIPS code\n",
    "FIPS_dictionary = create_matrix_indices_dictionary(dataset) "
   ]
  },
  {
   "cell_type": "code",
   "execution_count": 31,
   "id": "0b1f77bd",
   "metadata": {},
   "outputs": [
    {
     "data": {
      "text/plain": [
       "3137"
      ]
     },
     "execution_count": 31,
     "metadata": {},
     "output_type": "execute_result"
    }
   ],
   "source": [
    "len(FIPS_dictionary)"
   ]
  },
  {
   "cell_type": "code",
   "execution_count": 53,
   "id": "3119bc48",
   "metadata": {},
   "outputs": [
    {
     "data": {
      "text/plain": [
       "3137"
      ]
     },
     "execution_count": 53,
     "metadata": {},
     "output_type": "execute_result"
    }
   ],
   "source": [
    "desired_fips = list(FIPS_dictionary.keys())\n",
    "len(desired_fips)"
   ]
  },
  {
   "cell_type": "code",
   "execution_count": 51,
   "id": "0dc7cbea",
   "metadata": {},
   "outputs": [
    {
     "data": {
      "text/plain": [
       "3133"
      ]
     },
     "execution_count": 51,
     "metadata": {},
     "output_type": "execute_result"
    }
   ],
   "source": [
    "#below I create another FIPS dictionary that does not have the 5 New York Counties\n",
    "FIPS_dictionary2 = create_final_CSV_matrix_indices_dictionary(dataset)\n",
    "len(FIPS_dictionary2)"
   ]
  },
  {
   "cell_type": "code",
   "execution_count": 16,
   "id": "55ca88bf",
   "metadata": {},
   "outputs": [
    {
     "data": {
      "text/plain": [
       "1880"
      ]
     },
     "execution_count": 16,
     "metadata": {},
     "output_type": "execute_result"
    }
   ],
   "source": [
    "FIPS_dictionary2[36998]"
   ]
  },
  {
   "cell_type": "code",
   "execution_count": 17,
   "id": "b81be74b",
   "metadata": {},
   "outputs": [
    {
     "name": "stdout",
     "output_type": "stream",
     "text": [
      "2020-01-21 00:00:00 2021-04-15 00:00:00\n"
     ]
    }
   ],
   "source": [
    "paper_dates1 = dataset[\"date\"]\n",
    "result1 = (paper_dates1.drop_duplicates()).to_list()\n",
    "print(min(result1), max(result1))"
   ]
  },
  {
   "cell_type": "code",
   "execution_count": 18,
   "id": "8dcd7194",
   "metadata": {},
   "outputs": [],
   "source": [
    "#below I create a list of dates for the daily flows we will be using\n",
    "daily_flow_dates = []\n",
    "\n",
    "start_flow_date = dt.date(2020,1,21)\n",
    "end_flow_date = dt.date(2021,4,15)\n",
    "\n",
    "delta = end_flow_date - start_flow_date\n",
    "\n",
    "for i in range(delta.days + 1):\n",
    "    day = start_flow_date + dt.timedelta(days=i)\n",
    "    \n",
    "    daily_flow_dates.append(day.strftime(\"%Y_%m_%d\"))\n",
    "    #print(day.strftime(\"%Y_%m_%d\"))"
   ]
  },
  {
   "cell_type": "code",
   "execution_count": 19,
   "id": "92d7f4f7",
   "metadata": {},
   "outputs": [
    {
     "name": "stdout",
     "output_type": "stream",
     "text": [
      "Start Date:  2020_01_21\n",
      "End Date:  2021_04_15\n"
     ]
    }
   ],
   "source": [
    "print(\"Start Date: \", daily_flow_dates[0])\n",
    "\n",
    "print(\"End Date: \", daily_flow_dates[-1])"
   ]
  },
  {
   "cell_type": "code",
   "execution_count": 20,
   "id": "8cc480b7",
   "metadata": {},
   "outputs": [
    {
     "data": {
      "text/plain": [
       "451"
      ]
     },
     "execution_count": 20,
     "metadata": {},
     "output_type": "execute_result"
    }
   ],
   "source": [
    "len(daily_flow_dates)"
   ]
  },
  {
   "cell_type": "markdown",
   "id": "035f8547",
   "metadata": {},
   "source": [
    "**Build A Matrices**"
   ]
  },
  {
   "cell_type": "code",
   "execution_count": 72,
   "id": "af7fc1ae",
   "metadata": {},
   "outputs": [
    {
     "name": "stdout",
     "output_type": "stream",
     "text": [
      "Complete!\n"
     ]
    }
   ],
   "source": [
    "#NOTE: it takes a little over 23 minutes to create 10 A matrices and save them in a CSV\n",
    "filename_template = 'https://raw.githubusercontent.com/GeoDS/COVID19USFlows-DailyFlows/master/daily_flows/county2county/daily_county2county_'\n",
    "\n",
    "for date in daily_flow_dates:\n",
    "    \n",
    "    filename = filename_template + date + '.csv'\n",
    "    #print(filename)\n",
    "    \n",
    "    #some CSVs used column name date_range while others used date, due to this I decided to not include that column in\n",
    "        #the dataframe\n",
    "    col_list = [\"geoid_o\", \"geoid_d\", \"pop_flows\"] \n",
    "    temp_data = pd.read_csv(filename, usecols=col_list, dtype = {\"geoid_o\": int, \"geoid_d\": int})\n",
    "\n",
    "    temp_data = (temp_data[temp_data['geoid_o'].isin(desired_fips)]).reset_index(drop=True)\n",
    "    data = (temp_data[temp_data['geoid_d'].isin(desired_fips)]).reset_index(drop=True)\n",
    "    \n",
    "    matrix, transpose_matrix = create_A_matrix(data, dataset, FIPS_dictionary)\n",
    "    #print(temp_matrix)\n",
    "    \n",
    "    transpose_matrix_df = pd.DataFrame(transpose_matrix)\n",
    "    \n",
    "    csv_file_path = AMatrixFilepath + date + \"_A_matrix.csv\"\n",
    "    \n",
    "    #below I place the A matrix in a dataframe and change the column names to the FIPS codes they correspond to, I also\n",
    "        #add a column with the FIPS codes so that it is easy to see what index/row/column the FIPS correspond to   \n",
    "    cols = list(FIPS_dictionary2.keys())\n",
    "    transpose_matrix_df.set_axis(cols, axis=1, inplace=True)\n",
    "    transpose_matrix_df.insert(0, 'FIPS index', cols)\n",
    "    \n",
    "    transpose_matrix_df.to_csv(csv_file_path)\n",
    "    \n",
    "print(\"Complete!\")"
   ]
  },
  {
   "cell_type": "code",
   "execution_count": null,
   "id": "04e34cdc",
   "metadata": {},
   "outputs": [],
   "source": []
  }
 ],
 "metadata": {
  "kernelspec": {
   "display_name": "Python 3",
   "language": "python",
   "name": "python3"
  },
  "language_info": {
   "codemirror_mode": {
    "name": "ipython",
    "version": 3
   },
   "file_extension": ".py",
   "mimetype": "text/x-python",
   "name": "python",
   "nbconvert_exporter": "python",
   "pygments_lexer": "ipython3",
   "version": "3.8.10"
  }
 },
 "nbformat": 4,
 "nbformat_minor": 5
}
