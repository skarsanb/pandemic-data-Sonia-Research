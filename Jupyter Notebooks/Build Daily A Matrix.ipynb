{
 "cells": [
  {
   "cell_type": "markdown",
   "id": "ed630891",
   "metadata": {},
   "source": [
    "# Build Daily A Matrix\n",
    "\n",
    "Take all 451 A Matrices and get Daily flows and create a single A matrix  \n",
    "\n",
    "A Matrices - \n",
    "            Start Date:  2020_01_21                       End Date:  2021_04_15"
   ]
  },
  {
   "cell_type": "code",
   "execution_count": 1,
   "id": "8e847de6",
   "metadata": {},
   "outputs": [],
   "source": [
    "#below are the packages I will be using\n",
    "import pandas as pd\n",
    "import numpy as np\n",
    "import datetime as dt"
   ]
  },
  {
   "cell_type": "markdown",
   "id": "0dcba0e1",
   "metadata": {},
   "source": [
    "# Path Variables\n",
    "The default path is the GitHub descon-uccs/pandemic-data repository "
   ]
  },
  {
   "cell_type": "code",
   "execution_count": null,
   "id": "70692dc8",
   "metadata": {},
   "outputs": [],
   "source": [
    "#file path for where the A matrices are located \n",
    "AMatrixFilepath = '../Data/A Matrices/'\n",
    "\n",
    "#file path for where the Daily A matrix will be stored\n",
    "dailyAMatrixFilepath = '../Data/Aggregated A Matrix/'"
   ]
  },
  {
   "cell_type": "code",
   "execution_count": 2,
   "id": "02e27c4f",
   "metadata": {},
   "outputs": [],
   "source": [
    "def get_A_matrix(date):\n",
    "    A_matrix_fileName = AMatrixFilepath + date + \"_A_matrix.csv\"\n",
    "    A_matrix_dataset = pd.read_csv(A_matrix_fileName)\n",
    "    A_matrix_dataset.drop('Unnamed: 0', inplace=True, axis=1)\n",
    "    A_matrix_dataset.drop('FIPS index', inplace=True, axis=1)\n",
    "    A_matrix = A_matrix_dataset.to_numpy()\n",
    "    \n",
    "    return np.matrix(A_matrix)"
   ]
  },
  {
   "cell_type": "code",
   "execution_count": 3,
   "id": "14f706f1",
   "metadata": {},
   "outputs": [],
   "source": [
    "#below I create a list of dates for the daily flows we will be using\n",
    "daily_flow_dates = []\n",
    "\n",
    "start_flow_date = dt.date(2020,1,21)\n",
    "end_flow_date = dt.date(2021,4,15)\n",
    "\n",
    "delta = end_flow_date - start_flow_date\n",
    "\n",
    "for i in range(delta.days + 1):\n",
    "    day = start_flow_date + dt.timedelta(days=i)\n",
    "    \n",
    "    daily_flow_dates.append(day.strftime(\"%Y_%m_%d\"))"
   ]
  },
  {
   "cell_type": "code",
   "execution_count": 72,
   "id": "ca77813e",
   "metadata": {},
   "outputs": [],
   "source": [
    "fileName = AMatrixFilepath + \"2020_01_21_A_matrix.csv\"\n",
    "dataset = pd.read_csv(fileName)\n",
    "rows = list(dataset['FIPS index'])"
   ]
  },
  {
   "cell_type": "code",
   "execution_count": 65,
   "id": "157a86ab",
   "metadata": {},
   "outputs": [],
   "source": [
    "#below I create a matrix that will store the mobility sums for all of the A matrices, NOTE: this cell takes some time\n",
    "number_of_counties = len(cols)\n",
    "number_of_flows = len(daily_flow_dates)\n",
    "sum_of_mobility_matrix = np.zeros([number_of_counties, number_of_flows])\n",
    "\n",
    "for date in range(len(daily_flow_dates)):\n",
    "    temp_matrix = get_A_matrix(daily_flow_dates[date])\n",
    "    \n",
    "    #below I sum up the rows of the A matrix, which means summing outgoing flows \n",
    "    sum_of_mobility_matrix[:, [date]] = temp_matrix.sum(axis=1)"
   ]
  },
  {
   "cell_type": "code",
   "execution_count": 71,
   "id": "e3544700",
   "metadata": {},
   "outputs": [
    {
     "data": {
      "text/plain": [
       "array([[2.06845124, 2.09785769, 2.1216154 , ..., 2.26255965, 2.17246693,\n",
       "        2.15152885],\n",
       "       [3.03735145, 3.13299167, 3.09389711, ..., 3.75137893, 3.74256598,\n",
       "        4.00639619],\n",
       "       [3.30887796, 3.34125814, 3.49718234, ..., 3.44397959, 3.37836956,\n",
       "        2.99534356],\n",
       "       ...,\n",
       "       [1.89098733, 1.87612268, 1.84281227, ..., 2.00960487, 1.87019144,\n",
       "        1.9432849 ],\n",
       "       [1.89282059, 1.78433818, 1.81899304, ..., 1.95525003, 1.94326596,\n",
       "        1.7909412 ],\n",
       "       [1.51013873, 1.31979579, 1.42661526, ..., 1.48321993, 1.41284786,\n",
       "        1.37630457]])"
      ]
     },
     "execution_count": 71,
     "metadata": {},
     "output_type": "execute_result"
    }
   ],
   "source": [
    "sum_of_mobility_matrix"
   ]
  },
  {
   "cell_type": "code",
   "execution_count": 77,
   "id": "84ad43b2",
   "metadata": {},
   "outputs": [],
   "source": [
    "#below I place the daily A matrix in a dataframe and change the column names to the FIPS codes they correspond to, I also\n",
    "        #add a column with the FIPS codes so that it is easy to see what index/row/column the FIPS correspond to   \n",
    "daily_A_matrix_df = pd.DataFrame(sum_of_mobility_matrix)\n",
    "cols = daily_flow_dates\n",
    "daily_A_matrix_df.set_axis(cols, axis=1, inplace=True)\n",
    "daily_A_matrix_df.insert(0, 'FIPS index', rows)\n",
    "daily_A_matrix_df\n",
    "daily_A_matrix_df.to_csv(dailyAMatrixFilepath + \"Daily_A_matrix.csv\")"
   ]
  },
  {
   "cell_type": "code",
   "execution_count": null,
   "id": "58bf576a",
   "metadata": {},
   "outputs": [],
   "source": []
  }
 ],
 "metadata": {
  "kernelspec": {
   "display_name": "Python 3",
   "language": "python",
   "name": "python3"
  },
  "language_info": {
   "codemirror_mode": {
    "name": "ipython",
    "version": 3
   },
   "file_extension": ".py",
   "mimetype": "text/x-python",
   "name": "python",
   "nbconvert_exporter": "python",
   "pygments_lexer": "ipython3",
   "version": "3.8.10"
  }
 },
 "nbformat": 4,
 "nbformat_minor": 5
}
