{
 "cells": [
  {
   "cell_type": "markdown",
   "id": "485c5969",
   "metadata": {},
   "source": [
    "# Build Average A Matrix\n",
    "\n",
    "Take all 451 A Matrices and get average flows to create a single A matrix  \n",
    "\n",
    "A Matrices - \n",
    "            Start Date:  2020_01_21                       End Date:  2021_04_15"
   ]
  },
  {
   "cell_type": "code",
   "execution_count": 1,
   "id": "62d29fc5",
   "metadata": {},
   "outputs": [],
   "source": [
    "#below are the packages I will be using\n",
    "import pandas as pd\n",
    "import numpy as np\n",
    "import datetime as dt"
   ]
  },
  {
   "cell_type": "markdown",
   "id": "b8661cbc",
   "metadata": {},
   "source": [
    "# Path Variables\n",
    "The default path is the GitHub descon-uccs/pandemic-data repository "
   ]
  },
  {
   "cell_type": "code",
   "execution_count": null,
   "id": "3994b078",
   "metadata": {},
   "outputs": [],
   "source": [
    "#file path for where the A matrices are located \n",
    "AMatrixFilepath = '../Data/A Matrices/'\n",
    "\n",
    "#file path for where the Average A matrix will be stored\n",
    "averageAMatrixFilepath = '../Data/Average A Matrix/'"
   ]
  },
  {
   "cell_type": "code",
   "execution_count": 2,
   "id": "db77d55d",
   "metadata": {},
   "outputs": [],
   "source": [
    "def get_A_matrix(date):\n",
    "    A_matrix_fileName = AMatrixFilepath + date + \"_A_matrix.csv\"\n",
    "    A_matrix_dataset = pd.read_csv(A_matrix_fileName)\n",
    "    A_matrix_dataset.drop('Unnamed: 0', inplace=True, axis=1)\n",
    "    A_matrix_dataset.drop('FIPS index', inplace=True, axis=1)\n",
    "    A_matrix = A_matrix_dataset.to_numpy()\n",
    "    \n",
    "    return np.matrix(A_matrix)"
   ]
  },
  {
   "cell_type": "code",
   "execution_count": 3,
   "id": "9181c8c9",
   "metadata": {},
   "outputs": [],
   "source": [
    "#below I create a list of dates for the daily flows we will be using\n",
    "daily_flow_dates = []\n",
    "\n",
    "start_flow_date = dt.date(2020,1,21)\n",
    "end_flow_date = dt.date(2021,4,15)\n",
    "\n",
    "delta = end_flow_date - start_flow_date\n",
    "\n",
    "for i in range(delta.days + 1):\n",
    "    day = start_flow_date + dt.timedelta(days=i)\n",
    "    \n",
    "    daily_flow_dates.append(day.strftime(\"%Y_%m_%d\"))"
   ]
  },
  {
   "cell_type": "code",
   "execution_count": 27,
   "id": "667ee79b",
   "metadata": {},
   "outputs": [],
   "source": [
    "#create the sum_matrix, by taking the same cell from each A matrix and adding them together, I initialize the sum_matrix\n",
    "    #to the start date A matrix, NOTE: this cell takes some time\n",
    "flow_dates = daily_flow_dates[1:]\n",
    "sum_matrix = get_A_matrix(daily_flow_dates[0])\n",
    "\n",
    "for date in flow_dates:\n",
    "    temp_matrix = get_A_matrix(date)\n",
    "    \n",
    "    sum_matrix = np.sum([sum_matrix, temp_matrix], axis=0)\n",
    "\n",
    "#below I find the average A matrix by taking the sum_matrix and dividing by the number of A matrices \n",
    "average_matrix = sum_matrix / len(daily_flow_dates)"
   ]
  },
  {
   "cell_type": "code",
   "execution_count": 28,
   "id": "4f048cac",
   "metadata": {},
   "outputs": [],
   "source": [
    "fileName = AMatrixFilepath + \"2020_01_21_A_matrix.csv\"\n",
    "dataset = pd.read_csv(fileName)\n",
    "cols = list(dataset['FIPS index'])"
   ]
  },
  {
   "cell_type": "code",
   "execution_count": 33,
   "id": "f9b4b462",
   "metadata": {},
   "outputs": [
    {
     "data": {
      "text/plain": [
       "array([[1.51654863e+00, 6.51270905e-04, 1.21697029e-03, ...,\n",
       "        0.00000000e+00, 0.00000000e+00, 6.72198541e-06],\n",
       "       [1.16633307e-02, 1.67724828e+00, 3.81608973e-03, ...,\n",
       "        2.87220045e-05, 5.68172940e-06, 8.19442030e-05],\n",
       "       [6.22020494e-04, 2.08604547e-04, 1.85265246e+00, ...,\n",
       "        0.00000000e+00, 0.00000000e+00, 0.00000000e+00],\n",
       "       ...,\n",
       "       [1.42080863e-05, 1.20383159e-05, 4.13171698e-06, ...,\n",
       "        1.57563019e+00, 8.17600861e-04, 5.18873254e-04],\n",
       "       [3.96873919e-07, 4.37034572e-07, 0.00000000e+00, ...,\n",
       "        1.59725041e-04, 1.52473726e+00, 8.18161652e-04],\n",
       "       [3.57186527e-07, 8.44271332e-07, 0.00000000e+00, ...,\n",
       "        3.71632043e-05, 2.59370947e-04, 1.23508960e+00]])"
      ]
     },
     "execution_count": 33,
     "metadata": {},
     "output_type": "execute_result"
    }
   ],
   "source": [
    "average_matrix"
   ]
  },
  {
   "cell_type": "code",
   "execution_count": 36,
   "id": "0698bd53",
   "metadata": {},
   "outputs": [],
   "source": [
    "#below I place the A matrix in a dataframe and change the column names to the FIPS codes they correspond to, I also\n",
    "        #add a column with the FIPS codes so that it is easy to see what index/row/column the FIPS correspond to   \n",
    "average_A_matrix_df = pd.DataFrame(average_matrix)\n",
    "average_A_matrix_df.set_axis(cols, axis=1, inplace=True)\n",
    "average_A_matrix_df.insert(0, 'FIPS index', cols)\n",
    "average_A_matrix_df\n",
    "average_A_matrix_df.to_csv(averageAMatrixFilepath + \"Average_A_matrix.csv\")"
   ]
  },
  {
   "cell_type": "code",
   "execution_count": null,
   "id": "d2090146",
   "metadata": {},
   "outputs": [],
   "source": []
  }
 ],
 "metadata": {
  "kernelspec": {
   "display_name": "Python 3",
   "language": "python",
   "name": "python3"
  },
  "language_info": {
   "codemirror_mode": {
    "name": "ipython",
    "version": 3
   },
   "file_extension": ".py",
   "mimetype": "text/x-python",
   "name": "python",
   "nbconvert_exporter": "python",
   "pygments_lexer": "ipython3",
   "version": "3.8.10"
  }
 },
 "nbformat": 4,
 "nbformat_minor": 5
}
